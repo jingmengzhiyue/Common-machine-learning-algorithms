{
 "cells": [
  {
   "cell_type": "markdown",
   "metadata": {},
   "source": [
    "## GMM and hyperspectral image unmixing"
   ]
  },
  {
   "cell_type": "markdown",
   "metadata": {},
   "source": [
    "![](../Fig/UM.png)"
   ]
  },
  {
   "cell_type": "markdown",
   "metadata": {},
   "source": [
    "一条端元曲线的形成和什么因素有关：\n",
    "1. 物质\n",
    "2. 光照条件\n",
    "3. 空气湿度\n",
    "4. 温度\n",
    "5. 。。。。。"
   ]
  },
  {
   "cell_type": "markdown",
   "metadata": {},
   "source": [
    "每种因素都和端元曲线的形成有关，但是每种因素都不起决定性作用。这种情况正好适用于高斯分布。\n",
    "\n",
    "假设端元曲线是从很多高斯分布中混合得到的，理论上，只要采样的高斯分布足够多，一定能得到较好的解混效果。"
   ]
  },
  {
   "cell_type": "markdown",
   "metadata": {},
   "source": [
    "GMM相对于LMM的优势：\n",
    "1. GMM模型中天然包含对光谱易变性的假设，可以解决光谱易变性问题。\n",
    "2. GMM模型的性能可以通过增加采样数来获得提升。\n",
    "3. GMM模型可以方便的通过EM算法求解，且不需要调参就能保证收敛。"
   ]
  },
  {
   "cell_type": "markdown",
   "metadata": {},
   "source": [
    "GMM相对于LMM的缺点：\n",
    "1. GMM模型的复杂度比LMM高。"
   ]
  },
  {
   "cell_type": "markdown",
   "metadata": {},
   "source": [
    "GMM-based hyperspectral image unmixing model"
   ]
  },
  {
   "cell_type": "markdown",
   "metadata": {},
   "source": [
    "LMM模型"
   ]
  },
  {
   "cell_type": "markdown",
   "metadata": {},
   "source": [
    "$$\n",
    "y_n = \\sum_{i=1}^{N}a_{i}e_{ni}+n_n\\\\\n",
    "s.t.~~~~a_{ni}\\ge 0\\\\\n",
    "~~~~~~~~\\sum_{i=1}^{N}a_{ni}=1\n",
    " \n",
    "$$"
   ]
  },
  {
   "cell_type": "markdown",
   "metadata": {},
   "source": [
    "<!--端元易变性的LMM模型：-->"
   ]
  },
  {
   "cell_type": "markdown",
   "metadata": {},
   "source": [
    "<!--\n",
    "$$\n",
    "y_n = \\sum_{i=1}^{N}a_{ni}e_{ni}+n_n\n",
    "$$\n",
    "-->"
   ]
  },
  {
   "cell_type": "markdown",
   "metadata": {},
   "source": [
    "<!--其中$\\{a_{ni}: i=1,...,M \\}, n=1,...,N$,表示由于易变性的影响，每个像素的端元可能不一样。-->"
   ]
  },
  {
   "cell_type": "markdown",
   "metadata": {},
   "source": [
    "假设端元服从高斯混合模型：\n",
    "$$\n",
    "p(a_{ni}|\\Theta) = \\sum_{k=1}^K\\pi_{ik}\\mathcal{N}(a_{i}|\\mu_{ik},\\Sigma_{ik})\\\\\n",
    "s.t.~~~~\\pi_{ik}\\ge 0\\\\\n",
    "~~~~~~~~\\sum_{k=1}^K\\pi_{ik}=1\n",
    "$$\n"
   ]
  },
  {
   "cell_type": "markdown",
   "metadata": {},
   "source": [
    "其中$\\Theta=\\{ \\pi_{ik},\\mu_{ik},\\Sigma_{ik}:j=1,...,M,k=1,...,K_j \\}$表示模型参数。噪声或者误差$n_n$也服从高斯分布：\n",
    "$$\n",
    "p(n_n) = \\mathcal{N}(n_n|0,D)\n",
    "$$"
   ]
  },
  {
   "cell_type": "markdown",
   "metadata": {},
   "source": [
    "根据$y_n = \\sum_{i=1}^{N}a_{i}e_{ni}+n_n$，$y_n$实际上也服从混合高斯模型："
   ]
  },
  {
   "cell_type": "markdown",
   "metadata": {},
   "source": [
    "$$\n",
    "p(y_n|e_n,\\Theta,D) = \\sum_{k\\in \\mathcal{K}}\\pi_k\\mathcal{N}(y_n|\\mu_{nk},\\Sigma_{nk})\n",
    "$$"
   ]
  },
  {
   "cell_type": "markdown",
   "metadata": {},
   "source": [
    "其中：\n",
    "$$\n",
    "\\pi_{\\mathbf{k}} =\\prod_{j=1}^{M} \\pi_{j k_{j}}\\\\\n",
    "\\mu_{n \\mathbf{k}}=\\sum_{j=1}^{M} e_{n j} \\mu_{j k_{j}} \\\\\n",
    "\\boldsymbol{\\Sigma}_{n \\mathbf{k}}= \\sum_{j=1}^{M} e_{n j}^{2} \\boldsymbol{\\Sigma}_{j k_{j}}+\\mathbf{D} \n",
    "$$"
   ]
  },
  {
   "cell_type": "markdown",
   "metadata": {},
   "source": [
    "利用极大似然估计可以得到：\n",
    "$$\n",
    "\\mathcal{L}_{M}=-\\sum_{n=1}^{N} \\sum_{\\mathbf{k} \\in \\mathcal{K}} \\gamma_{n \\mathbf{k}}\\left\\{\\log \\pi_{\\mathbf{k}}+\\log \\mathcal{N}\\left(\\mathbf{y}_{n} \\mid \\mu_{n \\mathbf{k}}, \\mathbf{\\Sigma}_{n \\mathbf{k}}\\right)\\right\\}+\\phi(E)\n",
    "$$"
   ]
  },
  {
   "cell_type": "markdown",
   "metadata": {},
   "source": [
    "其中：\n",
    "$$\n",
    "\\gamma_{n \\mathbf{k}}=\\frac{\\pi_{\\mathbf{k}} \\mathcal{N}\\left(\\mathbf{y}_{n} \\mid \\mu_{n \\mathbf{k}}, \\mathbf{\\Sigma}_{n \\mathbf{k}}\\right)}{\\sum_{\\mathbf{k} \\in \\mathcal{K}} \\pi_{\\mathbf{k}} \\mathcal{N}\\left(\\mathbf{y}_{n} \\mid \\mu_{n \\mathbf{k}}, \\Sigma_{n \\mathbf{k}}\\right)}\n",
    "$$\n",
    "$\\phi(\\cdot)$表示正则化项。"
   ]
  }
 ],
 "metadata": {
  "interpreter": {
   "hash": "34146b8d692198c41db21641d17066d7e34395756562660b00830fedab628765"
  },
  "kernelspec": {
   "display_name": "Python 3.7.13 ('ML')",
   "language": "python",
   "name": "python3"
  },
  "language_info": {
   "name": "python",
   "version": "3.7.13"
  },
  "orig_nbformat": 4
 },
 "nbformat": 4,
 "nbformat_minor": 2
}
