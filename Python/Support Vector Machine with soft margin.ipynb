{
 "cells": [
  {
   "cell_type": "markdown",
   "metadata": {},
   "source": [
    "## Support Vector Machine with soft margin"
   ]
  },
  {
   "cell_type": "markdown",
   "metadata": {},
   "source": [
    "硬间隔支持向量机，它可以在严格线性可分的数据集上工作的很好，但对于非严格线性可分的情况往往就表现很差了"
   ]
  },
  {
   "cell_type": "markdown",
   "metadata": {},
   "source": [
    "那怕仅含有一个异常点，对硬间隔支持向量机的训练影响就很大，我们希望它能具有一定的包容能力，容忍哪些放错的点，但又不能容忍过度，我们可以引入变量$\\xi$和一个超参$C$来进行控制，原始的优化问题更新为如下：  \n",
    "\n",
    "$$\n",
    "\\min_{w,b,\\xi} \\frac{1}{2}w^Tw + C\\sum_{i=1}^N\\xi_i\\\\\n",
    "s.t.~~~~y_i(w^Tx_i+b)\\geq 1-\\xi_i,i=1,2,...,N\\\\\n",
    "\\xi_i\\geq0,i=1,2,...,N\n",
    "$$  \n",
    "\n",
    "这里$C$若越大，包容能力就越小，当取值很大时，就等价于硬间隔支持向量机，而$\\xi$使得支持向量的间隔可以调整，不必像硬间隔那样，严格等于1"
   ]
  },
  {
   "cell_type": "markdown",
   "metadata": {},
   "source": [
    "## Lagrangian Duality"
   ]
  },
  {
   "cell_type": "markdown",
   "metadata": {},
   "source": [
    "#### Lagrange函数\n",
    "关于原问题的Lagrange函数：  \n",
    "\n",
    "$$\n",
    "L(w,b,\\xi,\\lambda,\\mu)=\\frac{1}{2}w^Tw+C\\sum_{i=1}^N\\xi_i+\\sum_{i=1}^N\\lambda_i(1-\\xi_i-y_i(w^Tx_i+b))-\\sum_{i=1}^N\\mu_i\\xi_i\\\\\n",
    "s.t.\\mu_i\\geq 0,\\lambda_i\\geq0,i=1,2,...,N\n",
    "$$\n",
    "\n",
    "$$\n",
    "\\min_{\\lambda} \\frac{1}{2}\\sum_{i=1}^N\\sum_{j=1}^N\\lambda_i\\lambda_jy_iy_jx_i^Tx_j-\\sum_{i=1}^N\\lambda_i\\\\\n",
    "s.t.\\sum_{i=1}^N\\lambda_iy_i=0,\\\\\n",
    "0\\leq\\lambda_i\\leq C,i=1,2,...,N\n",
    "$$  \n",
    "可以发现与硬间隔的不同是$\\lambda$加了一个上界的约束$C$  \n"
   ]
  },
  {
   "cell_type": "markdown",
   "metadata": {},
   "source": [
    "### Karush–Kuhn–Tucker conditions\n",
    "$$\n",
    "\\frac{\\partial L}{\\partial w}=0\\Rightarrow w^*=\\sum_{i=1}^N\\lambda_i^*y_ix_i\\\\\n",
    "\\frac{\\partial L}{\\partial b}=0\\Rightarrow \\lambda_i^*y_i=0\\\\\n",
    "\\frac{\\partial L}{\\partial \\xi}=0\\Rightarrow C-\\lambda_i^*-\\mu_i^*=0\\\\\n",
    "\\lambda_i^*(1-\\xi_i^*-y_i({w^*}^Tx_i+b^*))=0\\\\\n",
    "\\mu_i^*\\xi_i^*=0\\\\\n",
    "y_i({w^*}^Tx_i+b^*)-1-\\xi_i^*\\geq0\\\\\n",
    "\\xi_i^*\\geq0\\\\\n",
    "\\lambda_i^*\\geq0\\\\\n",
    "\\mu_i^*\\geq0\\\\\n",
    "$$  "
   ]
  },
  {
   "cell_type": "markdown",
   "metadata": {},
   "source": [
    "由KKT条件中的关系1，我们可以知道：  \n",
    "\n",
    "$$\n",
    "w^*=\\sum_{i=1}^N\\lambda_i^*y_ix_i\n",
    "$$  \n",
    "\n",
    "对于$b^*$的求解，我们可以取某点，其$0<\\lambda_k^*<C$，由关系3,4,5可以推得到：${w^*}^Tx_k+b^*=y_k$，所以：  \n",
    "\n",
    "$$\n",
    "b^*=y_k-{w^*}^Tx_k\n",
    "$$"
   ]
  },
  {
   "cell_type": "markdown",
   "metadata": {},
   "source": [
    "## SMO algorithm for solving SVM"
   ]
  },
  {
   "cell_type": "markdown",
   "metadata": {},
   "source": [
    " \n",
    "\n",
    "好了，最终模型得求解落到了对$\\lambda^*$得求解上，求解过程与硬间隔一样，无非就是就是对$\\lambda$多加了一个约束：$\\lambda_i^*<=C$，具体而言需要对$\\lambda_2^{new}$的求解进行更新：  \n",
    "\n",
    "\n",
    "当$y_1\\neq y_2$时：  \n",
    "\n",
    "$$\n",
    "L=max(0,\\lambda_2^{old}-\\lambda_1^{old})\\\\\n",
    "H=min(C,C+\\lambda_2^{old}-\\lambda_1^{old})\n",
    "$$  \n",
    "\n",
    "当$y_1=y_2$时：  \n",
    "\n",
    "$$\n",
    "L=max(0,\\lambda_2^{old}+\\lambda_1^{old}-C)\\\\\n",
    "H=min(C,\\lambda_2^{old}+\\lambda_1^{old})\n",
    "$$  \n",
    "\n",
    "更新公式：  \n",
    "\n",
    "$$\n",
    "\\lambda_2^{new}=\\left\\{\\begin{matrix}\n",
    "H & \\alpha_2^{unc}> H\\\\ \n",
    "\\alpha_2^{unc} &  L \\leq \\alpha_2^{unc} \\leq H\\\\\n",
    "L & \\alpha_2^{unc}<L\n",
    "\\end{matrix}\\right.\n",
    "$$"
   ]
  },
  {
   "cell_type": "code",
   "execution_count": 77,
   "metadata": {},
   "outputs": [],
   "source": [
    "import numpy as np\n",
    "import matplotlib.pyplot as plt\n",
    "import copy\n",
    "import random\n",
    "import os\n",
    "%matplotlib inline"
   ]
  },
  {
   "cell_type": "code",
   "execution_count": 78,
   "metadata": {},
   "outputs": [],
   "source": [
    "def plot_decision_function(X, y, clf, support_vectors=None):\n",
    "    plot_step = 0.02\n",
    "    x_min, x_max = X[:, 0].min() - 1, X[:, 0].max() + 1\n",
    "    y_min, y_max = X[:, 1].min() - 1, X[:, 1].max() + 1\n",
    "    xx, yy = np.meshgrid(np.arange(x_min, x_max, plot_step),\n",
    "                         np.arange(y_min, y_max, plot_step))\n",
    "\n",
    "    Z = clf.predict(np.c_[xx.ravel(), yy.ravel()])\n",
    "    Z = Z.reshape(xx.shape)\n",
    "    plt.contourf(xx, yy, Z, alpha=0.4)\n",
    "    plt.scatter(X[:, 0], X[:, 1], alpha=0.8, c=y, edgecolor='k')\n",
    "    # 绘制支持向量\n",
    "    if support_vectors is not None:\n",
    "        plt.scatter(X[support_vectors, 0], X[support_vectors, 1], s=80, c='none', alpha=0.7, edgecolor='red')\n",
    "def sigmoid(x2):\n",
    "    \"\"\"\n",
    "    sigmoid函数\n",
    "    :param x2:\n",
    "    :return:\n",
    "    \"\"\"\n",
    "    x = copy.deepcopy(x2)\n",
    "    if type(x) is int:\n",
    "        x = 20.0 if x > 20.0 else x\n",
    "        x = -100.0 if x < -100.0 else x\n",
    "    else:\n",
    "        # 避免下溢\n",
    "        x[x > 20.0] = 20.0\n",
    "        # 避免上溢\n",
    "        x[x < -100.0] = -100.0\n",
    "    return 1 / (1 + np.exp(-x))\n",
    "\n",
    "\"\"\"\n",
    "软间隔支持向量机的smo实现，放到ml_models.svm模块中\n",
    "\"\"\"\n",
    "class SoftMarginSVM(object):\n",
    "    def __init__(self, epochs=100, C=1.0):\n",
    "        self.w = None\n",
    "        self.b = None\n",
    "        self.alpha = None\n",
    "        self.E = None\n",
    "        self.epochs = epochs\n",
    "        self.C = C\n",
    "        # 记录支持向量\n",
    "        self.support_vectors = None\n",
    "\n",
    "    def init_params(self, X, y):\n",
    "        \"\"\"\n",
    "        :param X: (n_samples,n_features)\n",
    "        :param y: (n_samples,) y_i\\in\\{0,1\\}\n",
    "        :return:\n",
    "        \"\"\"\n",
    "        n_samples, n_features = X.shape\n",
    "        self.w = np.zeros(n_features)\n",
    "        self.b = .0\n",
    "        self.alpha = np.zeros(n_samples)\n",
    "        self.E = np.zeros(n_samples)\n",
    "        # 初始化E\n",
    "        for i in range(0, n_samples):\n",
    "            self.E[i] = np.dot(self.w, X[i, :]) + self.b - y[i]\n",
    "\n",
    "    def _select_j(self, best_i):\n",
    "        \"\"\"\n",
    "        选择j\n",
    "        :param best_i:\n",
    "        :return:\n",
    "        \"\"\"\n",
    "        valid_j_list = [i for i in range(0, len(self.alpha)) if self.alpha[i] > 0 and i != best_i]\n",
    "        best_j = -1\n",
    "        # 优先选择使得|E_i-E_j|最大的j\n",
    "        if len(valid_j_list) > 0:\n",
    "            max_e = 0\n",
    "            for j in valid_j_list:\n",
    "                current_e = np.abs(self.E[best_i] - self.E[j])\n",
    "                if current_e > max_e:\n",
    "                    best_j = j\n",
    "                    max_e = current_e\n",
    "        else:\n",
    "            # 随机选择\n",
    "            l = list(range(len(self.alpha)))\n",
    "            seq = l[: best_i] + l[best_i + 1:]\n",
    "            best_j = random.choice(seq)\n",
    "        return best_j\n",
    "\n",
    "    def _meet_kkt(self, w, b, x_i, y_i, alpha_i):\n",
    "        \"\"\"\n",
    "        判断是否满足KKT条件\n",
    "\n",
    "        :param w:\n",
    "        :param b:\n",
    "        :param x_i:\n",
    "        :param y_i:\n",
    "        :return:\n",
    "        \"\"\"\n",
    "        if alpha_i < self.C:\n",
    "            return y_i * (np.dot(w, x_i) + b) >= 1\n",
    "        else:\n",
    "            return y_i * (np.dot(w, x_i) + b) <= 1\n",
    "\n",
    "    def fit(self, X, y2, show_train_process=False):\n",
    "        \"\"\"\n",
    "\n",
    "        :param X:\n",
    "        :param y2:\n",
    "        :param show_train_process: 显示训练过程\n",
    "        :return:\n",
    "        \"\"\"\n",
    "        y = copy.deepcopy(y2)\n",
    "        y[y == 0] = -1\n",
    "        # 初始化参数\n",
    "        self.init_params(X, y)\n",
    "        for _ in range(0, self.epochs):\n",
    "            if_all_match_kkt = True\n",
    "            for i in range(0, len(self.alpha)):\n",
    "                x_i = X[i, :]\n",
    "                y_i = y[i]\n",
    "                alpha_i_old = self.alpha[i]\n",
    "                E_i_old = self.E[i]\n",
    "                # 外层循环：选择违反KKT条件的点i\n",
    "                if not self._meet_kkt(self.w, self.b, x_i, y_i, alpha_i_old):\n",
    "                    if_all_match_kkt = False\n",
    "                    # 内层循环，选择使|Ei-Ej|最大的点j\n",
    "                    best_j = self._select_j(i)\n",
    "\n",
    "                    alpha_j_old = self.alpha[best_j]\n",
    "                    x_j = X[best_j, :]\n",
    "                    y_j = y[best_j]\n",
    "                    E_j_old = self.E[best_j]\n",
    "\n",
    "                    # 进行更新\n",
    "                    # 1.首先获取无裁剪的最优alpha_2\n",
    "                    eta = np.dot(x_i - x_j, x_i - x_j)\n",
    "                    # 如果x_i和x_j很接近，则跳过\n",
    "                    if eta < 1e-3:\n",
    "                        continue\n",
    "                    alpha_j_unc = alpha_j_old + y_j * (E_i_old - E_j_old) / eta\n",
    "                    # 2.裁剪并得到new alpha_2\n",
    "                    if y_i == y_j:\n",
    "                        L = max(0., alpha_i_old + alpha_j_old - self.C)\n",
    "                        H = min(self.C, alpha_i_old + alpha_j_old)\n",
    "                    else:\n",
    "                        L = max(0, alpha_j_old - alpha_i_old)\n",
    "                        H = min(self.C, self.C + alpha_j_old - alpha_i_old)\n",
    "\n",
    "                    if alpha_j_unc < L:\n",
    "                        alpha_j_new = L\n",
    "                    elif alpha_j_unc > H:\n",
    "                        alpha_j_new = H\n",
    "                    else:\n",
    "                        alpha_j_new = alpha_j_unc\n",
    "\n",
    "                    # 如果变化不够大则跳过\n",
    "                    if np.abs(alpha_j_new - alpha_j_old) < 1e-5:\n",
    "                        continue\n",
    "                    # 3.得到alpha_1_new\n",
    "                    alpha_i_new = alpha_i_old + y_i * y_j * (alpha_j_old - alpha_j_new)\n",
    "                    # 4.更新w\n",
    "                    self.w = self.w + (alpha_i_new - alpha_i_old) * y_i * x_i + (alpha_j_new - alpha_j_old) * y_j * x_j\n",
    "                    # 5.更新alpha_1,alpha_2\n",
    "                    self.alpha[i] = alpha_i_new\n",
    "                    self.alpha[best_j] = alpha_j_new\n",
    "                    # 6.更新b\n",
    "                    b_i_new = y_i - np.dot(self.w, x_i)\n",
    "                    b_j_new = y_j - np.dot(self.w, x_j)\n",
    "                    if self.C > alpha_i_new > 0:\n",
    "                        self.b = b_i_new\n",
    "                    elif self.C > alpha_j_new > 0:\n",
    "                        self.b = b_j_new\n",
    "                    else:\n",
    "                        self.b = (b_i_new + b_j_new) / 2.0\n",
    "                    # 7.更新E\n",
    "                    for k in range(0, len(self.E)):\n",
    "                        self.E[k] = np.dot(self.w, X[k, :]) + self.b - y[k]\n",
    "                    # # 显示训练过程\n",
    "                    # if show_train_process is True:\n",
    "                    #     plot_decision_function(X, y2, self, [i, best_j])\n",
    "                    #     plt.pause(0.1)\n",
    "                    #     .plt.clf()\n",
    "\n",
    "            # 如果所有的点都满足KKT条件，则中止\n",
    "            if if_all_match_kkt is True:\n",
    "                break\n",
    "        # 计算支持向量\n",
    "        self.support_vectors = np.where(self.alpha > 1e-3)[0]\n",
    "        # 显示最终结果\n",
    "        if show_train_process is True:\n",
    "            plot_decision_function(X, y2, self, self.support_vectors)\n",
    "            plt.show()\n",
    "\n",
    "    def get_params(self):\n",
    "        \"\"\"\n",
    "        输出原始的系数\n",
    "        :return: w\n",
    "        \"\"\"\n",
    "\n",
    "        return self.w, self.b\n",
    "\n",
    "    def predict_proba(self, x):\n",
    "        \"\"\"\n",
    "        :param x:ndarray格式数据: m x n\n",
    "        :return: m x 1\n",
    "        \"\"\"\n",
    "        return sigmoid(x.dot(self.w) + self.b)\n",
    "\n",
    "    def predict(self, x):\n",
    "        \"\"\"\n",
    "        :param x:ndarray格式数据: m x n\n",
    "        :return: m x 1\n",
    "        \"\"\"\n",
    "        proba = self.predict_proba(x)\n",
    "        return (proba >= 0.5).astype(int)"
   ]
  },
  {
   "cell_type": "code",
   "execution_count": 79,
   "metadata": {},
   "outputs": [
    {
     "data": {
      "text/plain": [
       "<matplotlib.collections.PathCollection at 0x1f7dbeedc08>"
      ]
     },
     "execution_count": 79,
     "metadata": {},
     "output_type": "execute_result"
    },
    {
     "data": {
      "image/png": "[encoded data removed]",
      "text/plain": [
       "<Figure size 432x288 with 1 Axes>"
      ]
     },
     "metadata": {
      "needs_background": "light"
     },
     "output_type": "display_data"
    }
   ],
   "source": [
    "from sklearn.datasets import make_classification\n",
    "data, target = make_classification(n_samples=100, n_features=2, n_classes=2, n_informative=1, n_redundant=0,\n",
    "                                   n_repeated=0, n_clusters_per_class=1, class_sep=2.0)\n",
    "plt.scatter(data[:,0],data[:,1],c=target)"
   ]
  },
  {
   "cell_type": "code",
   "execution_count": 80,
   "metadata": {},
   "outputs": [
    {
     "data": {
      "image/png": "[encoded data removed]",
      "text/plain": [
       "<Figure size 432x288 with 1 Axes>"
      ]
     },
     "metadata": {
      "needs_background": "light"
     },
     "output_type": "display_data"
    }
   ],
   "source": [
    "svm = SoftMarginSVM(C=100.0)\n",
    "svm.fit(data, target)\n",
    "plot_decision_function(data, target, svm, svm.support_vectors)"
   ]
  }
 ],
 "metadata": {
  "interpreter": {
   "hash": "34146b8d692198c41db21641d17066d7e34395756562660b00830fedab628765"
  },
  "kernelspec": {
   "display_name": "Python 3.7.13 ('ML')",
   "language": "python",
   "name": "python3"
  },
  "language_info": {
   "codemirror_mode": {
    "name": "ipython",
    "version": 3
   },
   "file_extension": ".py",
   "mimetype": "text/x-python",
   "name": "python",
   "nbconvert_exporter": "python",
   "pygments_lexer": "ipython3",
   "version": "3.7.13"
  },
  "orig_nbformat": 4
 },
 "nbformat": 4,
 "nbformat_minor": 2
}
