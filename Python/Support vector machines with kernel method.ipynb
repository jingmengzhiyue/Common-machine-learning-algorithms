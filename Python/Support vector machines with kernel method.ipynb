{
 "cells": [
  {
   "cell_type": "markdown",
   "metadata": {},
   "source": [
    "## Support vector machines with kernel method\n"
   ]
  },
  {
   "cell_type": "markdown",
   "metadata": {},
   "source": [
    "硬间隔与软间隔的支持向量机只适用于线性可分或者大致线性可分的数据集，对于线性不可分的数据集就无能为力了，比如说像这样的数据："
   ]
  },
  {
   "cell_type": "code",
   "execution_count": 31,
   "metadata": {},
   "outputs": [],
   "source": [
    "import numpy as np\n",
    "import matplotlib.pyplot as plt\n",
    "import copy\n",
    "import random\n",
    "import os\n",
    "from sklearn import datasets\n",
    "%matplotlib inline"
   ]
  },
  {
   "cell_type": "code",
   "execution_count": 32,
   "metadata": {},
   "outputs": [
    {
     "data": {
      "image/png": "[encoded data removed]",
      "text/plain": [
       "<Figure size 432x288 with 1 Axes>"
      ]
     },
     "metadata": {
      "needs_background": "light"
     },
     "output_type": "display_data"
    }
   ],
   "source": [
    "data, target = datasets.make_moons(noise=0.01)\n",
    "plt.scatter(data[:,0],data[:,1],c=target)\n",
    "plt.show()"
   ]
  },
  {
   "cell_type": "markdown",
   "metadata": {},
   "source": [
    "实际上这样的数据才是我们经常会遇到的，对于这样的数据我们需要找一个曲面来把它们进行分割。SVM实际上还只能处理线性可分问题，那么我们可以对数据进行变换，使得它线性可分，例如将二维数据变换到三维空间$(x,y) \\rightarrow (x,y,x*y)$。假如将数据变换到三维空间有：\n",
    "\n",
    "\n",
    "![avatar](../Fig/moon.png)"
   ]
  },
  {
   "cell_type": "markdown",
   "metadata": {},
   "source": [
    "## kernel methods"
   ]
  },
  {
   "cell_type": "markdown",
   "metadata": {},
   "source": [
    "基于核方法的SVM实际上有两个步骤：\n",
    "1. 将低维非线性可分数据$x$，通过一个非线性映射函数$\\phi$，映射到一个新空间（高维度甚至是无限维空间）；  \n",
    "2. 对新空间的数据$\\phi(x)$训练线性分类器 "
   ]
  },
  {
   "cell_type": "markdown",
   "metadata": {},
   "source": [
    "引入高维映射的SVM可以表示为：\n",
    "$$\n",
    "\\min_{\\lambda} \\frac{1}{2}\\sum_{i=1}^N\\sum_{j=1}^N\\lambda_i\\lambda_jy_iy_j\\phi(x_i)^T\\phi(x_j)-\\sum_{i=1}^N\\lambda_i\\\\\n",
    "s.t.\\sum_{i=1}^N\\lambda_iy_i=0,\\\\\n",
    "0\\leq\\lambda_i\\leq C,i=1,2,...,N\n",
    "$$  \n",
    "求解得最优$\\lambda_i^*$后，SVM模型为：  \n",
    "\n",
    "$$\n",
    "f(x)=sign(\\sum_{i=1}^N\\lambda_iy_i\\phi(x_i)^T\\phi(x)+b^*)\n",
    "$$"
   ]
  },
  {
   "cell_type": "markdown",
   "metadata": {},
   "source": [
    "观察表达式可以看出，求解中包含内积运算$\\phi(x_i)^T\\phi(x)$，一般情况下$x_i$本身的维度就不低，现在将它变换到更高的维度上会使得计算更加复杂。为了简化算法就想找到一种函数，这种函数输入$(x_i,x_i)$，输出则是$\\phi(x_i)^T\\phi(x)$，即：\n",
    "$$\n",
    "K(x_i,x_j)=\\phi(x_i)^T\\phi(x_j)\n",
    "$$  \n",
    "其中$K(x_i,x_j)$就叫做和函数。"
   ]
  },
  {
   "cell_type": "markdown",
   "metadata": {},
   "source": [
    "要成为核函数必须满足如下两点条件：  \n",
    "\n",
    "1. 对称性：$K(x_i,x_j)=K(x_j,x_i)$  \n",
    "\n",
    "2. 半正定性：对任意的$x_i,i=1,2,..,m$，$K(x,z)$对应的Gramm矩阵：  \n",
    "\n",
    "$$\n",
    "K=[K(x_i,x_j)]_{m\\times m}\n",
    "$$  \n",
    "是半正定矩阵，这里的$x_i\\in$可行域，并不要求一定要属于样本集 \n",
    "\n",
    "\n",
    "常见的核函数有：  \n",
    "\n",
    "1. 多项式核函数：  \n",
    "\n",
    "$$\n",
    "K(x_1,x_2)=(x_1^Tx_2+1)^p\n",
    "$$  \n",
    "\n",
    "2. 高斯核函数：  \n",
    "\n",
    "$$\n",
    "K(x_1,x_2)=exp(-\\frac{\\mid\\mid x_1-x_2\\mid\\mid^2}{2\\sigma^2})\n",
    "$$  \n",
    "\n",
    "一般情况下使用高斯核的性能会好一些，因为有理论证明，当维度映射到无穷维时，所有数据一定都是线性可分的。\n",
    "假设核函数为高斯核，那么根据核函数的定义有：\n",
    "$$\n",
    "K(x_1,x_2)=exp(-\\frac{\\mid\\mid x_1-x_2\\mid\\mid^2}{2\\sigma^2})=\\phi(x_1)^T\\phi(x_2)\n",
    "$$ \n",
    "其中$\\phi(x_1)$是无限维的。\n",
    "\n",
    "而使用多项式核函数，$\\phi(x_1)$是有限维的。\n",
    "\n",
    "\n",
    "\n",
    "另外，线性可分SVM中使用的是$K(x_1,x_2)=x_1^Tx_2$也是核函数"
   ]
  },
  {
   "cell_type": "markdown",
   "metadata": {},
   "source": [
    "利用核函数后，软间隔SVM的对偶问题为：  \n",
    "\n",
    "$$\n",
    "\\min_{\\lambda} \\frac{1}{2}\\sum_{i=1}^N\\sum_{j=1}^N\\lambda_i\\lambda_jy_iy_jK(x_i,x_j)-\\sum_{i=1}^N\\lambda_i\\\\\n",
    "s.t.\\sum_{i=1}^N\\lambda_iy_i=0,\\\\\n",
    "0\\leq\\lambda_i\\leq C,i=1,2,...,N\n",
    "$$  \n",
    "求解得最优$\\lambda_i^*$后，SVM模型为：  \n",
    "\n",
    "$$\n",
    "f(x)=sign(\\sum_{i=1}^N\\lambda_iy_iK(x,x_i)+b^*)\n",
    "$$"
   ]
  },
  {
   "cell_type": "code",
   "execution_count": 33,
   "metadata": {},
   "outputs": [],
   "source": [
    "def plot_decision_function(X, y, clf, support_vectors=None):\n",
    "    plot_step = 0.02\n",
    "    x_min, x_max = X[:, 0].min() - 1, X[:, 0].max() + 1\n",
    "    y_min, y_max = X[:, 1].min() - 1, X[:, 1].max() + 1\n",
    "    xx, yy = np.meshgrid(np.arange(x_min, x_max, plot_step),\n",
    "                         np.arange(y_min, y_max, plot_step))\n",
    "\n",
    "    Z = clf.predict(np.c_[xx.ravel(), yy.ravel()])\n",
    "    Z = Z.reshape(xx.shape)\n",
    "    plt.contourf(xx, yy, Z, alpha=0.4)\n",
    "    plt.scatter(X[:, 0], X[:, 1], alpha=0.8, c=y, edgecolor='k')\n",
    "    # 绘制支持向量\n",
    "    if support_vectors is not None:\n",
    "        plt.scatter(X[support_vectors, 0], X[support_vectors, 1], s=80, c='none', alpha=0.7, edgecolor='red')\n",
    "def sigmoid(x2):\n",
    "    \"\"\"\n",
    "    sigmoid函数\n",
    "    :param x2:\n",
    "    :return:\n",
    "    \"\"\"\n",
    "    x = copy.deepcopy(x2)\n",
    "    if type(x) is int:\n",
    "        x = 20.0 if x > 20.0 else x\n",
    "        x = -100.0 if x < -100.0 else x\n",
    "    else:\n",
    "        # 避免下溢\n",
    "        x[x > 20.0] = 20.0\n",
    "        # 避免上溢\n",
    "        x[x < -100.0] = -100.0\n",
    "    return 1 / (1 + np.exp(-x))\n"
   ]
  },
  {
   "cell_type": "code",
   "execution_count": 34,
   "metadata": {},
   "outputs": [],
   "source": [
    "\"\"\"\n",
    "该部分放到ml_model.kernel_functions中\n",
    "\"\"\"\n",
    "\n",
    "def linear():\n",
    "    \"\"\"\n",
    "    线性核函数\n",
    "    :return:linear function\n",
    "    \"\"\"\n",
    "\n",
    "    def _linear(x, y):\n",
    "        return np.dot(x, y)\n",
    "\n",
    "    return _linear\n",
    "\n",
    "\n",
    "def poly(p=2):\n",
    "    \"\"\"\n",
    "    多项式核函数\n",
    "    :param p:\n",
    "    :return: poly function\n",
    "    \"\"\"\n",
    "\n",
    "    def _poly(x, y):\n",
    "        return np.power(np.dot(x, y) + 1, p)\n",
    "\n",
    "    return _poly\n",
    "\n",
    "\n",
    "def rbf(sigma=0.1):\n",
    "    \"\"\"\n",
    "    径向基/高斯核函数\n",
    "    :param sigma:\n",
    "    :return:\n",
    "    \"\"\"\n",
    "\n",
    "    def _rbf(x, y):\n",
    "        np_x = np.asarray(x)\n",
    "        if np_x.ndim <= 1:\n",
    "            return np.exp((-1 * np.dot(x - y, x - y) / (2 * sigma * sigma)))\n",
    "        else:\n",
    "            return np.exp((-1 * np.multiply(x - y, x - y).sum(axis=1) / (2 * sigma * sigma)))\n",
    "\n",
    "    return _rbf"
   ]
  },
  {
   "cell_type": "code",
   "execution_count": 35,
   "metadata": {},
   "outputs": [],
   "source": [
    "\n",
    "class SVC(object):\n",
    "    def __init__(self, epochs=100, C=1.0, tol=1e-3, kernel=None, degree=3, gamma=0.1):\n",
    "        \"\"\"\n",
    "        :param epochs: 迭代次数上限\n",
    "        :param C: C越小，对于误分类的惩罚越小\n",
    "        :param tol:提前中止训练时的误差值上限，避免迭代太久\n",
    "        :param kernel:核函数\n",
    "        :param degree:kernel='poly'时生效\n",
    "        :param gamma:kernel='rbf'时生效\n",
    "        \"\"\"\n",
    "        self.b = None\n",
    "        self.alpha = None\n",
    "        self.E = None\n",
    "        self.epochs = epochs\n",
    "        self.C = C\n",
    "        self.tol = tol\n",
    "        # 定义核函数\n",
    "        if kernel is None:\n",
    "            self.kernel_function = linear()\n",
    "        elif kernel == 'poly':\n",
    "            self.kernel_function = poly(degree)\n",
    "        elif kernel == 'rbf':\n",
    "            self.kernel_function = rbf(gamma)\n",
    "        else:\n",
    "            self.kernel_function = linear()\n",
    "        # 记录支持向量\n",
    "        self.support_vectors = None\n",
    "        # 记录支持向量的x\n",
    "        self.support_vector_x = []\n",
    "        # 记录支持向量的y\n",
    "        self.support_vector_y = []\n",
    "        # 记录支持向量的alpha\n",
    "        self.support_vector_alpha = []\n",
    "\n",
    "    def f(self, x):\n",
    "        \"\"\"\n",
    "        :param x:\n",
    "        :return: wx+b\n",
    "        \"\"\"\n",
    "        x_np = np.asarray(x)\n",
    "        if len(self.support_vector_x) == 0:\n",
    "            if x_np.ndim <= 1:\n",
    "                return 0\n",
    "            else:\n",
    "                return np.zeros((x_np.shape[:-1]))\n",
    "        else:\n",
    "            if x_np.ndim <= 1:\n",
    "                wx = 0\n",
    "            else:\n",
    "                wx = np.zeros((x_np.shape[:-1]))\n",
    "            for i in range(0, len(self.support_vector_x)):\n",
    "                wx += self.kernel_function(x, self.support_vector_x[i]) * self.support_vector_alpha[i] * \\\n",
    "                      self.support_vector_y[i]\n",
    "            return wx + self.b\n",
    "\n",
    "    def init_params(self, X, y):\n",
    "        \"\"\"\n",
    "        :param X: (n_samples,n_features)\n",
    "        :param y: (n_samples,) y_i\\in\\{0,1\\}\n",
    "        :return:\n",
    "        \"\"\"\n",
    "        n_samples, n_features = X.shape\n",
    "        self.b = .0\n",
    "        self.alpha = np.zeros(n_samples)\n",
    "        self.E = np.zeros(n_samples)\n",
    "        # 初始化E\n",
    "        for i in range(0, n_samples):\n",
    "            self.E[i] = self.f(X[i, :]) - y[i]\n",
    "\n",
    "    def _select_j(self, best_i):\n",
    "        \"\"\"\n",
    "        选择j\n",
    "        :param best_i:\n",
    "        :return:\n",
    "        \"\"\"\n",
    "        valid_j_list = [i for i in range(0, len(self.alpha)) if self.alpha[i] > 0 and i != best_i]\n",
    "        best_j = -1\n",
    "        # 优先选择使得|E_i-E_j|最大的j\n",
    "        if len(valid_j_list) > 0:\n",
    "            max_e = 0\n",
    "            for j in valid_j_list:\n",
    "                current_e = np.abs(self.E[best_i] - self.E[j])\n",
    "                if current_e > max_e:\n",
    "                    best_j = j\n",
    "                    max_e = current_e\n",
    "        else:\n",
    "            # 随机选择\n",
    "            l = list(range(len(self.alpha)))\n",
    "            seq = l[: best_i] + l[best_i + 1:]\n",
    "            best_j = random.choice(seq)\n",
    "        return best_j\n",
    "\n",
    "    def _meet_kkt(self, x_i, y_i, alpha_i):\n",
    "        \"\"\"\n",
    "        判断是否满足KKT条件\n",
    "\n",
    "        :param w:\n",
    "        :param b:\n",
    "        :param x_i:\n",
    "        :param y_i:\n",
    "        :return:\n",
    "        \"\"\"\n",
    "        if alpha_i < self.C:\n",
    "            return y_i * self.f(x_i) >= 1 - self.tol\n",
    "        else:\n",
    "            return y_i * self.f(x_i) <= 1 + self.tol\n",
    "\n",
    "    def fit(self, X, y2, show_train_process=False):\n",
    "        \"\"\"\n",
    "\n",
    "        :param X:\n",
    "        :param y2:\n",
    "        :param show_train_process: 显示训练过程\n",
    "        :return:\n",
    "        \"\"\"\n",
    "        y = copy.deepcopy(y2)\n",
    "        y[y == 0] = -1\n",
    "        # 初始化参数\n",
    "        self.init_params(X, y)\n",
    "        for _ in range(0, self.epochs):\n",
    "            if_all_match_kkt = True\n",
    "            for i in range(0, len(self.alpha)):\n",
    "                x_i = X[i, :]\n",
    "                y_i = y[i]\n",
    "                alpha_i_old = self.alpha[i]\n",
    "                E_i_old = self.E[i]\n",
    "                # 外层循环：选择违反KKT条件的点i\n",
    "                if not self._meet_kkt(x_i, y_i, alpha_i_old):\n",
    "                    if_all_match_kkt = False\n",
    "                    # 内层循环，选择使|Ei-Ej|最大的点j\n",
    "                    best_j = self._select_j(i)\n",
    "\n",
    "                    alpha_j_old = self.alpha[best_j]\n",
    "                    x_j = X[best_j, :]\n",
    "                    y_j = y[best_j]\n",
    "                    E_j_old = self.E[best_j]\n",
    "\n",
    "                    # 进行更新\n",
    "                    # 1.首先获取无裁剪的最优alpha_2\n",
    "                    eta = self.kernel_function(x_i, x_i) + self.kernel_function(x_j, x_j) - 2.0 * self.kernel_function(\n",
    "                        x_i, x_j)\n",
    "                    # 如果x_i和x_j很接近，则跳过\n",
    "                    if eta < 1e-3:\n",
    "                        continue\n",
    "                    alpha_j_unc = alpha_j_old + y_j * (E_i_old - E_j_old) / eta\n",
    "                    # 2.裁剪并得到new alpha_2\n",
    "                    if y_i == y_j:\n",
    "                        L = max(0., alpha_i_old + alpha_j_old - self.C)\n",
    "                        H = min(self.C, alpha_i_old + alpha_j_old)\n",
    "                    else:\n",
    "                        L = max(0, alpha_j_old - alpha_i_old)\n",
    "                        H = min(self.C, self.C + alpha_j_old - alpha_i_old)\n",
    "\n",
    "                    if alpha_j_unc < L:\n",
    "                        alpha_j_new = L\n",
    "                    elif alpha_j_unc > H:\n",
    "                        alpha_j_new = H\n",
    "                    else:\n",
    "                        alpha_j_new = alpha_j_unc\n",
    "\n",
    "                    # 如果变化不够大则跳过\n",
    "                    if np.abs(alpha_j_new - alpha_j_old) < 1e-5:\n",
    "                        continue\n",
    "                    # 3.得到alpha_1_new\n",
    "                    alpha_i_new = alpha_i_old + y_i * y_j * (alpha_j_old - alpha_j_new)\n",
    "                    # 5.更新alpha_1,alpha_2\n",
    "                    self.alpha[i] = alpha_i_new\n",
    "                    self.alpha[best_j] = alpha_j_new\n",
    "                    # 6.更新b\n",
    "                    b_i_new = y_i - self.f(x_i) + self.b\n",
    "                    b_j_new = y_j - self.f(x_j) + self.b\n",
    "                    if self.C > alpha_i_new > 0:\n",
    "                        self.b = b_i_new\n",
    "                    elif self.C > alpha_j_new > 0:\n",
    "                        self.b = b_j_new\n",
    "                    else:\n",
    "                        self.b = (b_i_new + b_j_new) / 2.0\n",
    "                    # 7.更新E\n",
    "                    for k in range(0, len(self.E)):\n",
    "                        self.E[k] = self.f(X[k, :]) - y[k]\n",
    "\n",
    "                    # 8.更新支持向量相关的信息\n",
    "                    self.support_vectors = np.where(self.alpha > 1e-3)[0]\n",
    "                    self.support_vector_x = [X[i, :] for i in self.support_vectors]\n",
    "                    self.support_vector_y = [y[i] for i in self.support_vectors]\n",
    "                    self.support_vector_alpha = [self.alpha[i] for i in self.support_vectors]\n",
    "\n",
    "                    # 显示训练过程\n",
    "                    # if show_train_process is True:\n",
    "                    #     utils.plot_decision_function(X, y2, self, [i, best_j])\n",
    "                    #     utils.plt.pause(0.1)\n",
    "                    #     utils.plt.clf()\n",
    "\n",
    "            # 如果所有的点都满足KKT条件，则中止\n",
    "            if if_all_match_kkt is True:\n",
    "                break\n",
    "\n",
    "        # 显示最终结果\n",
    "        if show_train_process is True:\n",
    "            plot_decision_function(X, y2, self, self.support_vectors)\n",
    "            plt.show()\n",
    "\n",
    "    def get_params(self):\n",
    "        \"\"\"\n",
    "        输出原始的系数\n",
    "        :return: w\n",
    "        \"\"\"\n",
    "\n",
    "        return self.w, self.b\n",
    "\n",
    "    def predict_proba(self, x):\n",
    "        \"\"\"\n",
    "        :param x:ndarray格式数据: m x n\n",
    "        :return: m x 1\n",
    "        \"\"\"\n",
    "        return sigmoid(self.f(x))\n",
    "\n",
    "    def predict(self, x):\n",
    "        \"\"\"\n",
    "        :param x:ndarray格式数据: m x n\n",
    "        :return: m x 1\n",
    "        \"\"\"\n",
    "        proba = self.predict_proba(x)\n",
    "        return (proba >= 0.5).astype(int)"
   ]
  },
  {
   "cell_type": "markdown",
   "metadata": {},
   "source": [
    "### 基于高斯核函数的分类结构"
   ]
  },
  {
   "cell_type": "code",
   "execution_count": 36,
   "metadata": {},
   "outputs": [
    {
     "data": {
      "image/png": "[encoded data removed]",
      "text/plain": [
       "<Figure size 432x288 with 1 Axes>"
      ]
     },
     "metadata": {
      "needs_background": "light"
     },
     "output_type": "display_data"
    }
   ],
   "source": [
    "svm = SVC(C=3.0, kernel='rbf',gamma=0.1, epochs=10, tol=0.2)\n",
    "svm.fit(data, target)\n",
    "plot_decision_function(data, target, svm, svm.support_vectors)"
   ]
  },
  {
   "cell_type": "markdown",
   "metadata": {},
   "source": [
    "### 基于多项式核函数的分类结果"
   ]
  },
  {
   "cell_type": "code",
   "execution_count": 37,
   "metadata": {},
   "outputs": [
    {
     "data": {
      "image/png": "[encoded data removed]",
      "text/plain": [
       "<Figure size 432x288 with 1 Axes>"
      ]
     },
     "metadata": {
      "needs_background": "light"
     },
     "output_type": "display_data"
    }
   ],
   "source": [
    "svm = SVC(C=3.0, kernel='poly',degree=3, epochs=10, tol=0.2)\n",
    "svm.fit(data, target)\n",
    "plot_decision_function(data, target, svm, svm.support_vectors)"
   ]
  }
 ],
 "metadata": {
  "interpreter": {
   "hash": "34146b8d692198c41db21641d17066d7e34395756562660b00830fedab628765"
  },
  "kernelspec": {
   "display_name": "Python 3 (ipykernel)",
   "language": "python",
   "name": "python3"
  },
  "language_info": {
   "codemirror_mode": {
    "name": "ipython",
    "version": 3
   },
   "file_extension": ".py",
   "mimetype": "text/x-python",
   "name": "python",
   "nbconvert_exporter": "python",
   "pygments_lexer": "ipython3",
   "version": "3.7.13"
  }
 },
 "nbformat": 4,
 "nbformat_minor": 4
}
